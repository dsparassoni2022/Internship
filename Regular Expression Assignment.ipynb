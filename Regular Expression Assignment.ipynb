{
 "cells": [
  {
   "cell_type": "markdown",
   "id": "69f028bc",
   "metadata": {},
   "source": [
    "# Question 1- Write a Python program to check that a string contains only a certain set of characters (in this case a-z, A-Z and 0-9)."
   ]
  },
  {
   "cell_type": "code",
   "execution_count": 1,
   "id": "3a930768",
   "metadata": {},
   "outputs": [
    {
     "name": "stdout",
     "output_type": "stream",
     "text": [
      "True\n",
      "False\n"
     ]
    }
   ],
   "source": [
    "import re\n",
    "\n",
    "def contains_only_allowed_chars(string):\n",
    "    pattern = r'^[a-zA-Z0-9]+$'\n",
    "    if re.match(pattern, string):\n",
    "        return True\n",
    "    return False\n",
    "\n",
    "# Example usage:\n",
    "test_string1 = \"Hello123\"\n",
    "test_string2 = \"Hello123$%\"\n",
    "\n",
    "print(contains_only_allowed_chars(test_string1))  # Output: True\n",
    "print(contains_only_allowed_chars(test_string2))  # Output: False\n"
   ]
  },
  {
   "cell_type": "markdown",
   "id": "ab14914a",
   "metadata": {},
   "source": [
    "# Question 2- Create a function in python that matches a string that has an a followed by zero or more b's"
   ]
  },
  {
   "cell_type": "code",
   "execution_count": 2,
   "id": "d8225065",
   "metadata": {},
   "outputs": [
    {
     "name": "stdout",
     "output_type": "stream",
     "text": [
      "True\n",
      "True\n",
      "False\n",
      "True\n"
     ]
    }
   ],
   "source": [
    "import re\n",
    "\n",
    "def match_a_followed_by_zero_or_more_b(string):\n",
    "    pattern = r'^a[b]*$'\n",
    "    if re.match(pattern, string):\n",
    "        return True\n",
    "    return False\n",
    "\n",
    "# Example usage:\n",
    "test_string1 = \"abbb\"\n",
    "test_string2 = \"a\"\n",
    "test_string3 = \"ac\"\n",
    "test_string4 = \"abb\"\n",
    "\n",
    "print(match_a_followed_by_zero_or_more_b(test_string1))  # Output: True\n",
    "print(match_a_followed_by_zero_or_more_b(test_string2))  # Output: True\n",
    "print(match_a_followed_by_zero_or_more_b(test_string3))  # Output: False\n",
    "print(match_a_followed_by_zero_or_more_b(test_string4))  # Output: False\n"
   ]
  },
  {
   "cell_type": "markdown",
   "id": "836c332a",
   "metadata": {},
   "source": [
    "# Question 3-  Create a function in python that matches a string that has an a followed by one or more b's"
   ]
  },
  {
   "cell_type": "code",
   "execution_count": 3,
   "id": "60961f27",
   "metadata": {},
   "outputs": [
    {
     "name": "stdout",
     "output_type": "stream",
     "text": [
      "True\n",
      "False\n",
      "False\n",
      "True\n"
     ]
    }
   ],
   "source": [
    "import re\n",
    "\n",
    "def match_a_followed_by_one_or_more_b(string):\n",
    "    pattern = r'^ab+$'\n",
    "    if re.match(pattern, string):\n",
    "        return True\n",
    "    return False\n",
    "\n",
    "# Example usage:\n",
    "test_string1 = \"abbb\"\n",
    "test_string2 = \"a\"\n",
    "test_string3 = \"ac\"\n",
    "test_string4 = \"abb\"\n",
    "\n",
    "print(match_a_followed_by_one_or_more_b(test_string1))  # Output: True\n",
    "print(match_a_followed_by_one_or_more_b(test_string2))  # Output: False\n",
    "print(match_a_followed_by_one_or_more_b(test_string3))  # Output: False\n",
    "print(match_a_followed_by_one_or_more_b(test_string4))  # Output: False\n"
   ]
  },
  {
   "cell_type": "markdown",
   "id": "daadb93e",
   "metadata": {},
   "source": [
    "# Question 4- Create a function in Python and use RegEx that matches a string that has an a followed by zero or one 'b'."
   ]
  },
  {
   "cell_type": "code",
   "execution_count": 4,
   "id": "f57b8395",
   "metadata": {},
   "outputs": [
    {
     "name": "stdout",
     "output_type": "stream",
     "text": [
      "True\n",
      "True\n",
      "False\n",
      "False\n"
     ]
    }
   ],
   "source": [
    "import re\n",
    "\n",
    "def match_a_followed_by_zero_or_one_b(string):\n",
    "    pattern = r'^ab?$'\n",
    "    if re.match(pattern, string):\n",
    "        return True\n",
    "    return False\n",
    "\n",
    "# Example usage:\n",
    "test_string1 = \"ab\"\n",
    "test_string2 = \"a\"\n",
    "test_string3 = \"ac\"\n",
    "test_string4 = \"abb\"\n",
    "\n",
    "print(match_a_followed_by_zero_or_one_b(test_string1))  # Output: True\n",
    "print(match_a_followed_by_zero_or_one_b(test_string2))  # Output: True\n",
    "print(match_a_followed_by_zero_or_one_b(test_string3))  # Output: False\n",
    "print(match_a_followed_by_zero_or_one_b(test_string4))  # Output: False\n"
   ]
  },
  {
   "cell_type": "markdown",
   "id": "7c23bd7e",
   "metadata": {},
   "source": [
    "# Question 5- Write a Python program that matches a string that has an a followed by three 'b'."
   ]
  },
  {
   "cell_type": "code",
   "execution_count": 5,
   "id": "1749383a",
   "metadata": {},
   "outputs": [
    {
     "name": "stdout",
     "output_type": "stream",
     "text": [
      "True\n",
      "False\n",
      "False\n",
      "False\n"
     ]
    }
   ],
   "source": [
    "def match_a_followed_by_three_b(string):\n",
    "    if len(string) == 4 and string[0] == 'a' and string[1:] == 'bbb':\n",
    "        return True\n",
    "    return False\n",
    "\n",
    "# Example usage:\n",
    "test_string1 = \"abbb\"\n",
    "test_string2 = \"abb\"\n",
    "test_string3 = \"abbbb\"\n",
    "test_string4 = \"aabbb\"\n",
    "\n",
    "print(match_a_followed_by_three_b(test_string1))  # Output: True\n",
    "print(match_a_followed_by_three_b(test_string2))  # Output: False\n",
    "print(match_a_followed_by_three_b(test_string3))  # Output: False\n",
    "print(match_a_followed_by_three_b(test_string4))  # Output: False\n"
   ]
  },
  {
   "cell_type": "markdown",
   "id": "6e1f1cfb",
   "metadata": {},
   "source": [
    "# Question 6- Write a regular expression in Python to split a string into uppercase letters.\n",
    "Sample text: “ImportanceOfRegularExpressionsInPython”\n",
    "Output: [‘Importance’, ‘Of’, ‘Regular’, ‘Expression’, ‘In’, ‘Python’]\n"
   ]
  },
  {
   "cell_type": "code",
   "execution_count": 8,
   "id": "fcae549b",
   "metadata": {},
   "outputs": [
    {
     "name": "stdout",
     "output_type": "stream",
     "text": [
      "['Importance', 'Of', 'Regular', 'Expressions', 'In', 'Python']\n"
     ]
    }
   ],
   "source": [
    "import re\n",
    "\n",
    "text = \"ImportanceOfRegularExpressionsInPython\"\n",
    "result = re.findall('[A-Z][a-z]*', text)\n",
    "print(result)\n"
   ]
  },
  {
   "cell_type": "markdown",
   "id": "001b8d94",
   "metadata": {},
   "source": [
    "# Question 7- Write a Python program that matches a string that has an a followed by two to three 'b'."
   ]
  },
  {
   "cell_type": "code",
   "execution_count": 9,
   "id": "65290510",
   "metadata": {},
   "outputs": [
    {
     "name": "stdout",
     "output_type": "stream",
     "text": [
      "True\n",
      "True\n",
      "False\n",
      "False\n",
      "False\n"
     ]
    }
   ],
   "source": [
    "import re\n",
    "\n",
    "def match_a_followed_by_two_to_three_b(string):\n",
    "    pattern = r'^ab{2,3}$'\n",
    "    if re.match(pattern, string):\n",
    "        return True\n",
    "    return False\n",
    "\n",
    "# Example usage:\n",
    "test_string1 = \"abb\"\n",
    "test_string2 = \"abbb\"\n",
    "test_string3 = \"ab\"\n",
    "test_string4 = \"a\"\n",
    "test_string5 = \"abbbb\"\n",
    "\n",
    "print(match_a_followed_by_two_to_three_b(test_string1))  # Output: True\n",
    "print(match_a_followed_by_two_to_three_b(test_string2))  # Output: True\n",
    "print(match_a_followed_by_two_to_three_b(test_string3))  # Output: False\n",
    "print(match_a_followed_by_two_to_three_b(test_string4))  # Output: False\n",
    "print(match_a_followed_by_two_to_three_b(test_string5))  # Output: False\n"
   ]
  },
  {
   "cell_type": "markdown",
   "id": "70bcae38",
   "metadata": {},
   "source": [
    "# Question 8- Write a Python program to find sequences of lowercase letters joined with a underscore."
   ]
  },
  {
   "cell_type": "code",
   "execution_count": 10,
   "id": "965cf07b",
   "metadata": {},
   "outputs": [
    {
     "name": "stdout",
     "output_type": "stream",
     "text": [
      "['hello_world', 'is_a', 'sequence_of', 'lowercase_letters', 'with_underscore']\n"
     ]
    }
   ],
   "source": [
    "import re\n",
    "\n",
    "def find_lowercase_sequences_with_underscore(string):\n",
    "    pattern = r'[a-z]+_[a-z]+'\n",
    "    sequences = re.findall(pattern, string)\n",
    "    return sequences\n",
    "\n",
    "# Example usage:\n",
    "test_string = \"hello_world is_a_sequence_of_lowercase_letters with_underscore\"\n",
    "result = find_lowercase_sequences_with_underscore(test_string)\n",
    "print(result)\n"
   ]
  },
  {
   "cell_type": "markdown",
   "id": "75578a49",
   "metadata": {},
   "source": [
    "# Question 9- Write a Python program that matches a string that has an 'a' followed by anything, ending in 'b'."
   ]
  },
  {
   "cell_type": "code",
   "execution_count": 12,
   "id": "e5f3e32b",
   "metadata": {},
   "outputs": [
    {
     "name": "stdout",
     "output_type": "stream",
     "text": [
      "True\n",
      "False\n",
      "True\n",
      "False\n"
     ]
    }
   ],
   "source": [
    "import re\n",
    "\n",
    "def match_a_followed_by_anything_ending_in_b(string):\n",
    "    pattern = r'^a.*b$'\n",
    "    if re.match(pattern, string):\n",
    "        return True\n",
    "    return False\n",
    "\n",
    "# Example usage:\n",
    "test_string1 = \"alib\"\n",
    "test_string2 = \"abc\"\n",
    "test_string3 = \"a123b\"\n",
    "test_string4 = \"abacus\"\n",
    "\n",
    "print(match_a_followed_by_anything_ending_in_b(test_string1))  # Output: True\n",
    "print(match_a_followed_by_anything_ending_in_b(test_string2))  # Output: False\n",
    "print(match_a_followed_by_anything_ending_in_b(test_string3))  # Output: True\n",
    "print(match_a_followed_by_anything_ending_in_b(test_string4))  # Output: False\n"
   ]
  },
  {
   "cell_type": "markdown",
   "id": "badad0d7",
   "metadata": {},
   "source": [
    "# Question 10- Write a Python program that matches a word at the beginning of a string."
   ]
  },
  {
   "cell_type": "code",
   "execution_count": 13,
   "id": "18b18a11",
   "metadata": {},
   "outputs": [
    {
     "name": "stdout",
     "output_type": "stream",
     "text": [
      "True\n",
      "False\n",
      "True\n",
      "False\n"
     ]
    }
   ],
   "source": [
    "import re\n",
    "\n",
    "def match_word_at_beginning(string, word):\n",
    "    pattern = r'^' + word + r'\\b'\n",
    "    if re.search(pattern, string):\n",
    "        return True\n",
    "    return False\n",
    "\n",
    "# Example usage:\n",
    "test_string1 = \"Hello, world!\"\n",
    "test_string2 = \"Python is a powerful language.\"\n",
    "test_word1 = \"Hello\"\n",
    "test_word2 = \"Python\"\n",
    "test_word3 = \"world\"\n",
    "\n",
    "print(match_word_at_beginning(test_string1, test_word1))  # Output: True\n",
    "print(match_word_at_beginning(test_string1, test_word2))  # Output: False\n",
    "print(match_word_at_beginning(test_string2, test_word2))  # Output: True\n",
    "print(match_word_at_beginning(test_string2, test_word3))  # Output: False\n"
   ]
  },
  {
   "cell_type": "markdown",
   "id": "b401e076",
   "metadata": {},
   "source": [
    "# Question 11- Write a Python program to match a string that contains only upper and lowercase letters, numbers, and underscores.\n",
    "\n"
   ]
  },
  {
   "cell_type": "code",
   "execution_count": 14,
   "id": "9537ed87",
   "metadata": {},
   "outputs": [
    {
     "name": "stdout",
     "output_type": "stream",
     "text": [
      "True\n",
      "True\n",
      "True\n",
      "False\n"
     ]
    }
   ],
   "source": [
    "import re\n",
    "\n",
    "def match_string_with_allowed_chars(string):\n",
    "    pattern = r'^[a-zA-Z0-9_]+$'\n",
    "    if re.match(pattern, string):\n",
    "        return True\n",
    "    return False\n",
    "\n",
    "# Example usage:\n",
    "test_string1 = \"Hello123\"\n",
    "test_string2 = \"hello_world\"\n",
    "test_string3 = \"Hello_World_123\"\n",
    "test_string4 = \"Hello#World\"\n",
    "\n",
    "print(match_string_with_allowed_chars(test_string1))  # Output: True\n",
    "print(match_string_with_allowed_chars(test_string2))  # Output: True\n",
    "print(match_string_with_allowed_chars(test_string3))  # Output: True\n",
    "print(match_string_with_allowed_chars(test_string4))  # Output: False\n"
   ]
  },
  {
   "cell_type": "markdown",
   "id": "beb50ad3",
   "metadata": {},
   "source": [
    "# Question 12- Write a Python program where a string will start with a specific number. "
   ]
  },
  {
   "cell_type": "code",
   "execution_count": 15,
   "id": "64e0309a",
   "metadata": {},
   "outputs": [
    {
     "name": "stdout",
     "output_type": "stream",
     "text": [
      "True\n",
      "True\n",
      "True\n"
     ]
    }
   ],
   "source": [
    "def starts_with_number(string, number):\n",
    "    if string.startswith(str(number)):\n",
    "        return True\n",
    "    return False\n",
    "\n",
    "# Example usage:\n",
    "test_string1 = \"123abc\"\n",
    "test_string2 = \"456xyz\"\n",
    "test_string3 = \"789def\"\n",
    "test_number1 = 123\n",
    "test_number2 = 456\n",
    "test_number3 = 789\n",
    "\n",
    "print(starts_with_number(test_string1, test_number1))  # Output: True\n",
    "print(starts_with_number(test_string2, test_number2))  # Output: True\n",
    "print(starts_with_number(test_string3, test_number3))  # Output: True\n"
   ]
  },
  {
   "cell_type": "markdown",
   "id": "7d85787e",
   "metadata": {},
   "source": [
    "# Question 13- Write a Python program to remove leading zeros from an IP address"
   ]
  },
  {
   "cell_type": "code",
   "execution_count": 16,
   "id": "b65aebf0",
   "metadata": {},
   "outputs": [
    {
     "name": "stdout",
     "output_type": "stream",
     "text": [
      "192.168.1.1\n",
      "10.11.2.3\n",
      "0.1.2.3\n"
     ]
    }
   ],
   "source": [
    "def remove_leading_zeros(ip_address):\n",
    "    components = ip_address.split('.')\n",
    "    new_components = [str(int(component)) for component in components]\n",
    "    cleaned_ip = '.'.join(new_components)\n",
    "    return cleaned_ip\n",
    "\n",
    "# Example usage:\n",
    "ip_address1 = \"192.168.001.001\"\n",
    "ip_address2 = \"010.011.002.003\"\n",
    "ip_address3 = \"000.001.002.003\"\n",
    "\n",
    "cleaned_ip1 = remove_leading_zeros(ip_address1)\n",
    "cleaned_ip2 = remove_leading_zeros(ip_address2)\n",
    "cleaned_ip3 = remove_leading_zeros(ip_address3)\n",
    "\n",
    "print(cleaned_ip1)  # Output: 192.168.1.1\n",
    "print(cleaned_ip2)  # Output: 10.11.2.3\n",
    "print(cleaned_ip3)  # Output: 0.1.2.3\n"
   ]
  },
  {
   "cell_type": "markdown",
   "id": "b2bee693",
   "metadata": {},
   "source": [
    "# Question 14- Write a regular expression in python to match a date string in the form of Month name followed by day number and year stored in a text file.\n"
   ]
  },
  {
   "cell_type": "code",
   "execution_count": 21,
   "id": "334eb622",
   "metadata": {},
   "outputs": [
    {
     "name": "stdout",
     "output_type": "stream",
     "text": [
      "August 15th 1947\n"
     ]
    }
   ],
   "source": [
    "import re\n",
    "\n",
    "pattern = r\"\\b(January|February|March|April|May|June|July|August|September|October|November|December) \\d{1,2}(st|nd|rd|th)? \\d{4}\\b\"\n",
    "\n",
    "# Example usage:\n",
    "text = \"On August 15th 1947 that India was declared independent from British colonialism, and the reins of control were handed over to the leaders of the Country.\"\n",
    "date = re.search(pattern, text)\n",
    "if date:\n",
    "    matched_date = date.group()\n",
    "    print(matched_date)\n"
   ]
  },
  {
   "cell_type": "markdown",
   "id": "009ee5a7",
   "metadata": {},
   "source": [
    "# Question 15- Write a Python program to search some literals strings in a string. Go to the editor\n",
    "Sample text : 'The quick brown fox jumps over the lazy dog.'\n",
    "Searched words : 'fox', 'dog', 'horse'\n"
   ]
  },
  {
   "cell_type": "code",
   "execution_count": 22,
   "id": "da1906a7",
   "metadata": {},
   "outputs": [
    {
     "name": "stdout",
     "output_type": "stream",
     "text": [
      "['fox', 'dog']\n"
     ]
    }
   ],
   "source": [
    "def search_words(text, words):\n",
    "    found_words = []\n",
    "    for word in words:\n",
    "        if word in text:\n",
    "            found_words.append(word)\n",
    "    return found_words\n",
    "\n",
    "# Example usage:\n",
    "sample_text = 'The quick brown fox jumps over the lazy dog.'\n",
    "searched_words = ['fox', 'dog', 'horse']\n",
    "found_words = search_words(sample_text, searched_words)\n",
    "print(found_words)\n"
   ]
  },
  {
   "cell_type": "markdown",
   "id": "8102e395",
   "metadata": {},
   "source": [
    "# Question 16- Write a Python program to search a literals string in a string and also find the location within the original string where the pattern occurs\n",
    "Sample text : 'The quick brown fox jumps over the lazy dog.'\n",
    "Searched words : 'fox'\n"
   ]
  },
  {
   "cell_type": "code",
   "execution_count": 24,
   "id": "68aa46bc",
   "metadata": {},
   "outputs": [
    {
     "name": "stdout",
     "output_type": "stream",
     "text": [
      "[16]\n"
     ]
    }
   ],
   "source": [
    "import re\n",
    "\n",
    "def search_and_locate_word(text, word):\n",
    "    pattern = re.compile(r'\\b' + re.escape(word) + r'\\b')\n",
    "    matches = pattern.finditer(text)\n",
    "    locations = [match.start() for match in matches]\n",
    "    return locations\n",
    "\n",
    "# Example usage:\n",
    "sample_text = 'The quick brown fox jumps over the lazy dog.'\n",
    "searched_word = 'fox'\n",
    "word_locations = search_and_locate_word(sample_text, searched_word)\n",
    "print(word_locations)\n"
   ]
  },
  {
   "cell_type": "markdown",
   "id": "cdc0c171",
   "metadata": {},
   "source": [
    "# Question 17- Write a Python program to find the substrings within a string.\n",
    "Sample text : 'Python exercises, PHP exercises, C# exercises'\n",
    "Pattern : 'exercises'.\n"
   ]
  },
  {
   "cell_type": "code",
   "execution_count": 25,
   "id": "08a53c5b",
   "metadata": {},
   "outputs": [
    {
     "name": "stdout",
     "output_type": "stream",
     "text": [
      "['exercises', 'exercises', 'exercises']\n"
     ]
    }
   ],
   "source": [
    "def find_substrings(text, pattern):\n",
    "    substrings = []\n",
    "    start_index = 0\n",
    "    while start_index < len(text):\n",
    "        index = text.find(pattern, start_index)\n",
    "        if index == -1:\n",
    "            break\n",
    "        substrings.append(text[index: index + len(pattern)])\n",
    "        start_index = index + 1\n",
    "    return substrings\n",
    "\n",
    "# Example usage:\n",
    "sample_text = 'Python exercises, PHP exercises, C# exercises'\n",
    "searched_pattern = 'exercises'\n",
    "found_substrings = find_substrings(sample_text, searched_pattern)\n",
    "print(found_substrings)\n"
   ]
  },
  {
   "cell_type": "markdown",
   "id": "8d0294db",
   "metadata": {},
   "source": [
    "# Question 18- Write a Python program to find the occurrence and position of the substrings within a string."
   ]
  },
  {
   "cell_type": "code",
   "execution_count": 26,
   "id": "3158ed7c",
   "metadata": {},
   "outputs": [
    {
     "name": "stdout",
     "output_type": "stream",
     "text": [
      "Substring: exercises, Position: 7\n",
      "Substring: exercises, Position: 22\n",
      "Substring: exercises, Position: 36\n",
      "Substring: PHP, Position: 18\n",
      "Substring: Python, Position: 0\n"
     ]
    }
   ],
   "source": [
    "def find_occurrence_and_position(text, substring):\n",
    "    occurrences = []\n",
    "    start_index = 0\n",
    "    while start_index < len(text):\n",
    "        index = text.find(substring, start_index)\n",
    "        if index == -1:\n",
    "            break\n",
    "        occurrences.append((substring, index))\n",
    "        start_index = index + 1\n",
    "    return occurrences\n",
    "\n",
    "# Example usage:\n",
    "sample_text = 'Python exercises, PHP exercises, C# exercises'\n",
    "substrings = ['exercises', 'PHP', 'Python']\n",
    "found_occurrences = []\n",
    "for substring in substrings:\n",
    "    occurrences = find_occurrence_and_position(sample_text, substring)\n",
    "    found_occurrences.extend(occurrences)\n",
    "\n",
    "for occurrence in found_occurrences:\n",
    "    substring, position = occurrence\n",
    "    print(f\"Substring: {substring}, Position: {position}\")\n"
   ]
  },
  {
   "cell_type": "markdown",
   "id": "596aef37",
   "metadata": {},
   "source": [
    "# Question 19- Write a Python program to convert a date of yyyy-mm-dd format to dd-mm-yyyy format."
   ]
  },
  {
   "cell_type": "code",
   "execution_count": 27,
   "id": "c097a5a8",
   "metadata": {},
   "outputs": [
    {
     "name": "stdout",
     "output_type": "stream",
     "text": [
      "15-07-2023\n"
     ]
    }
   ],
   "source": [
    "def convert_date_format(date):\n",
    "    parts = date.split('-')\n",
    "    if len(parts) != 3:\n",
    "        return \"Invalid date format\"\n",
    "    year, month, day = parts\n",
    "    return f\"{day}-{month}-{year}\"\n",
    "\n",
    "# Example usage:\n",
    "date = \"2023-07-15\"\n",
    "converted_date = convert_date_format(date)\n",
    "print(converted_date)\n"
   ]
  },
  {
   "cell_type": "markdown",
   "id": "f17e17a8",
   "metadata": {},
   "source": [
    "# Question 20- Write a Python program to find all words starting with 'a' or 'e' in a given string."
   ]
  },
  {
   "cell_type": "code",
   "execution_count": 28,
   "id": "81eb36cb",
   "metadata": {},
   "outputs": [
    {
     "name": "stdout",
     "output_type": "stream",
     "text": [
      "['An', 'apple', 'and', 'an', 'elephant', 'entered']\n"
     ]
    }
   ],
   "source": [
    "import re\n",
    "\n",
    "def find_words_starting_with_a_or_e(text):\n",
    "    pattern = r'\\b[aAeE]\\w+\\b'\n",
    "    words = re.findall(pattern, text)\n",
    "    return words\n",
    "\n",
    "# Example usage:\n",
    "sample_text = \"An apple and an elephant entered the room.\"\n",
    "found_words = find_words_starting_with_a_or_e(sample_text)\n",
    "print(found_words)\n"
   ]
  },
  {
   "cell_type": "markdown",
   "id": "2af59a3d",
   "metadata": {},
   "source": [
    "# Question 21- Write a Python program to separate and print the numbers and their position of a given string."
   ]
  },
  {
   "cell_type": "code",
   "execution_count": 29,
   "id": "27aff433",
   "metadata": {},
   "outputs": [
    {
     "name": "stdout",
     "output_type": "stream",
     "text": [
      "Number: 25, Position: 19\n",
      "Number: 10, Position: 54\n",
      "Number: 30, Position: 57\n"
     ]
    }
   ],
   "source": [
    "import re\n",
    "\n",
    "def separate_numbers_and_positions(text):\n",
    "    pattern = r'\\d+'\n",
    "    numbers = re.findall(pattern, text)\n",
    "    positions = [match.start() for match in re.finditer(pattern, text)]\n",
    "    return numbers, positions\n",
    "\n",
    "# Example usage:\n",
    "sample_text = \"The temperature is 25 degrees Celsius and the time is 10:30 AM.\"\n",
    "numbers, positions = separate_numbers_and_positions(sample_text)\n",
    "for number, position in zip(numbers, positions):\n",
    "    print(f\"Number: {number}, Position: {position}\")\n"
   ]
  },
  {
   "cell_type": "markdown",
   "id": "653e1aef",
   "metadata": {},
   "source": [
    "# Question 22- Write a regular expression in python program to extract maximum numeric value from a string"
   ]
  },
  {
   "cell_type": "code",
   "execution_count": 30,
   "id": "bdb9ce50",
   "metadata": {},
   "outputs": [
    {
     "name": "stdout",
     "output_type": "stream",
     "text": [
      "789\n"
     ]
    }
   ],
   "source": [
    "import re\n",
    "\n",
    "def extract_maximum_numeric_value(text):\n",
    "    numbers = re.findall(r'\\d+', text)\n",
    "    if numbers:\n",
    "        max_number = max(numbers, key=int)\n",
    "        return int(max_number)\n",
    "    else:\n",
    "        return None\n",
    "\n",
    "# Example usage:\n",
    "sample_text = \"The maximum numeric value is 789, but there are also 123 and 456.\"\n",
    "max_value = extract_maximum_numeric_value(sample_text)\n",
    "print(max_value)\n"
   ]
  },
  {
   "cell_type": "markdown",
   "id": "dcd630ff",
   "metadata": {},
   "source": [
    "# Question 23- Write a Regex in Python to put spaces between words starting with capital letters"
   ]
  },
  {
   "cell_type": "code",
   "execution_count": 31,
   "id": "df873226",
   "metadata": {},
   "outputs": [
    {
     "name": "stdout",
     "output_type": "stream",
     "text": [
      " This IsA Regex Example\n"
     ]
    }
   ],
   "source": [
    "import re\n",
    "\n",
    "def put_spaces_between_capital_words(text):\n",
    "    modified_text = re.sub(r'(?<!\\s)([A-Z][a-z]+)', r' \\1', text)\n",
    "    return modified_text\n",
    "\n",
    "# Example usage:\n",
    "sample_text = \"ThisIsARegexExample\"\n",
    "modified_text = put_spaces_between_capital_words(sample_text)\n",
    "print(modified_text)\n"
   ]
  },
  {
   "cell_type": "markdown",
   "id": "6a7b124f",
   "metadata": {},
   "source": [
    "# Question 24- Python regex to find sequences of one upper case letter followed by lower case letters"
   ]
  },
  {
   "cell_type": "code",
   "execution_count": 32,
   "id": "d064aa87",
   "metadata": {},
   "outputs": [
    {
     "name": "stdout",
     "output_type": "stream",
     "text": [
      "['This', 'Sample', 'Text', 'Multiple', 'Like', 'This', 'One']\n"
     ]
    }
   ],
   "source": [
    "import re\n",
    "\n",
    "text = \"This is a Sample Text with Multiple sequences Like This One\"\n",
    "\n",
    "pattern = r\"[A-Z][a-z]+\"\n",
    "matches = re.findall(pattern, text)\n",
    "print(matches)\n"
   ]
  },
  {
   "cell_type": "markdown",
   "id": "ebbda0f6",
   "metadata": {},
   "source": [
    "# Question 25- Write a Python program to remove duplicate words from Sentence using Regular Expression"
   ]
  },
  {
   "cell_type": "code",
   "execution_count": 36,
   "id": "3060621b",
   "metadata": {},
   "outputs": [
    {
     "name": "stdout",
     "output_type": "stream",
     "text": [
      "The cat jumped over the fence\n"
     ]
    }
   ],
   "source": [
    "import re\n",
    "\n",
    "def remove_duplicate_words(sentence):\n",
    "    # Use regular expression to match duplicate words\n",
    "    pattern = r'\\b(\\w+)\\b(?:\\s+\\1\\b)+'\n",
    "    unique_sentence = re.sub(pattern, r'\\1', sentence)\n",
    "\n",
    "    return unique_sentence\n",
    "\n",
    "# Example usage\n",
    "sentence = \"The cat cat jumped over the fence fence\"\n",
    "unique_sentence = remove_duplicate_words(sentence)\n",
    "print(unique_sentence)\n"
   ]
  },
  {
   "cell_type": "markdown",
   "id": "2ab75459",
   "metadata": {},
   "source": [
    "# Question 26-  Write a python program using RegEx to accept string ending with alphanumeric character."
   ]
  },
  {
   "cell_type": "code",
   "execution_count": 37,
   "id": "4f564756",
   "metadata": {},
   "outputs": [
    {
     "name": "stdout",
     "output_type": "stream",
     "text": [
      "True\n",
      "False\n",
      "False\n"
     ]
    }
   ],
   "source": [
    "import re\n",
    "\n",
    "def ends_with_alphanumeric(string):\n",
    "    pattern = r\".*[A-Za-z0-9]$\"\n",
    "    match = re.match(pattern, string)\n",
    "    if match:\n",
    "        return True\n",
    "    else:\n",
    "        return False\n",
    "\n",
    "# Example usage:\n",
    "test_string1 = \"Hello123\"\n",
    "test_string2 = \"Python@\"\n",
    "test_string3 = \"123456!\"\n",
    "\n",
    "print(ends_with_alphanumeric(test_string1))  # Output: True\n",
    "print(ends_with_alphanumeric(test_string2))  # Output: False\n",
    "print(ends_with_alphanumeric(test_string3))  # Output: False\n"
   ]
  },
  {
   "cell_type": "markdown",
   "id": "bd30274a",
   "metadata": {},
   "source": [
    "# Question 27-Write a python program using RegEx to extract the hashtags.\n",
    "Sample Text: text = \"\"\"RT @kapil_kausik: #Doltiwal I mean #xyzabc is \"hurt\" by #Demonetization as the same has rendered USELESS <ed><U+00A0><U+00BD><ed><U+00B1><U+0089> \"acquired funds\" No wo\"\"\"\n",
    "Output: ['#Doltiwal', '#xyzabc', '#Demonetization']\n"
   ]
  },
  {
   "cell_type": "code",
   "execution_count": 38,
   "id": "99faf78d",
   "metadata": {},
   "outputs": [
    {
     "name": "stdout",
     "output_type": "stream",
     "text": [
      "['#Doltiwal', '#xyzabc', '#Demonetization']\n"
     ]
    }
   ],
   "source": [
    "import re\n",
    "\n",
    "def extract_hashtags(text):\n",
    "    hashtags = re.findall(r'\\#\\w+', text)\n",
    "    return hashtags\n",
    "\n",
    "# Example usage:\n",
    "sample_text = 'RT @kapil_kausik: #Doltiwal I mean #xyzabc is \"hurt\" by #Demonetization as the same has rendered USELESS <ed><U+00A0><U+00BD><ed><U+00B1><U+0089> \"acquired funds\" No wo'\n",
    "hashtags = extract_hashtags(sample_text)\n",
    "print(hashtags)\n"
   ]
  },
  {
   "cell_type": "markdown",
   "id": "094378b8",
   "metadata": {},
   "source": [
    "# Question 28- Write a python program using RegEx to remove <U+..> like symbols\n",
    "Check the below sample text, there are strange symbols something of the sort <U+..> all over the place. You need to come up with a general Regex expression that will cover all such symbols.\n",
    "Sample Text: \"@Jags123456 Bharat band on 28??<ed><U+00A0><U+00BD><ed><U+00B8><U+0082>Those who  are protesting #demonetization  are all different party leaders\"\n",
    "Output: @Jags123456 Bharat band on 28??<ed><ed>Those who  are protesting #demonetization  are all different party leaders\n"
   ]
  },
  {
   "cell_type": "code",
   "execution_count": 39,
   "id": "8ed326e8",
   "metadata": {},
   "outputs": [
    {
     "name": "stdout",
     "output_type": "stream",
     "text": [
      "@Jags123456 Bharat band on 28??<ed><ed>Those who are protesting #demonetization are all different party leaders\n"
     ]
    }
   ],
   "source": [
    "import re\n",
    "\n",
    "def remove_unicode_symbols(text):\n",
    "    pattern = r'<U\\+\\w+>'\n",
    "    modified_text = re.sub(pattern, '', text)\n",
    "    return modified_text\n",
    "\n",
    "# Example usage:\n",
    "sample_text = \"@Jags123456 Bharat band on 28??<ed><U+00A0><U+00BD><ed><U+00B8><U+0082>Those who are protesting #demonetization are all different party leaders\"\n",
    "modified_text = remove_unicode_symbols(sample_text)\n",
    "print(modified_text)\n"
   ]
  },
  {
   "cell_type": "markdown",
   "id": "d5f1d4db",
   "metadata": {},
   "source": [
    "# Question 29- Write a python program to extract dates from the text stored in the text file.\n",
    "Sample Text: Ron was born on 12-09-1992 and he was admitted to school 15-12-1999.\n",
    "Store this sample text in the file and then extract dates.\n"
   ]
  },
  {
   "cell_type": "code",
   "execution_count": 44,
   "id": "9f3af3a2",
   "metadata": {},
   "outputs": [
    {
     "name": "stdout",
     "output_type": "stream",
     "text": [
      "Dates found in the text:\n",
      "12-09-1992\n",
      "15-12-1999\n"
     ]
    }
   ],
   "source": [
    "import re\n",
    "\n",
    "# Function to extract dates from text\n",
    "def extract_dates_from_text(text):\n",
    "    pattern = r'\\d{2}-\\d{2}-\\d{4}'\n",
    "    dates = re.findall(pattern, text)\n",
    "    return dates\n",
    "\n",
    "# Sample text\n",
    "sample_text = \"Ron was born on 12-09-1992 and he was admitted to school 15-12-1999.\"\n",
    "\n",
    "# Save sample text in a file\n",
    "with open('sample_text.txt', 'w') as file:\n",
    "    file.write(sample_text)\n",
    "\n",
    "# Read text from file\n",
    "with open('sample_text.txt', 'r') as file:\n",
    "    text = file.read()\n",
    "\n",
    "# Extract dates from the text\n",
    "dates = extract_dates_from_text(text)\n",
    "\n",
    "# Print the extracted dates\n",
    "print(\"Dates found in the text:\")\n",
    "for date in dates:\n",
    "    print(date)\n"
   ]
  },
  {
   "cell_type": "code",
   "execution_count": null,
   "id": "45c99fb3",
   "metadata": {},
   "outputs": [],
   "source": []
  },
  {
   "cell_type": "code",
   "execution_count": null,
   "id": "09f0596c",
   "metadata": {},
   "outputs": [],
   "source": []
  },
  {
   "cell_type": "markdown",
   "id": "6f61b839",
   "metadata": {},
   "source": [
    "# Question 30- Write a Python program to replace all occurrences of a space, comma, or dot with a colon.\n",
    "Sample Text- 'Python Exercises, PHP exercises.'\n",
    "Output: Python:Exercises::PHP:exercises:\n",
    "\n"
   ]
  },
  {
   "cell_type": "code",
   "execution_count": 42,
   "id": "6f7ef67e",
   "metadata": {},
   "outputs": [
    {
     "name": "stdout",
     "output_type": "stream",
     "text": [
      "Python:Exercises::PHP:exercises:\n"
     ]
    }
   ],
   "source": [
    "def replace_with_colon(text):\n",
    "    modified_text = text.replace(' ', ':').replace(',', ':').replace('.', ':')\n",
    "    return modified_text\n",
    "\n",
    "# Example usage:\n",
    "sample_text = 'Python Exercises, PHP exercises.'\n",
    "modified_text = replace_with_colon(sample_text)\n",
    "print(modified_text)\n"
   ]
  },
  {
   "cell_type": "code",
   "execution_count": null,
   "id": "5b9bdfa9",
   "metadata": {},
   "outputs": [],
   "source": []
  },
  {
   "cell_type": "code",
   "execution_count": null,
   "id": "db481247",
   "metadata": {},
   "outputs": [],
   "source": []
  },
  {
   "cell_type": "code",
   "execution_count": null,
   "id": "6ce742eb",
   "metadata": {},
   "outputs": [],
   "source": []
  },
  {
   "cell_type": "code",
   "execution_count": null,
   "id": "b5ee915d",
   "metadata": {},
   "outputs": [],
   "source": []
  }
 ],
 "metadata": {
  "kernelspec": {
   "display_name": "Python 3 (ipykernel)",
   "language": "python",
   "name": "python3"
  },
  "language_info": {
   "codemirror_mode": {
    "name": "ipython",
    "version": 3
   },
   "file_extension": ".py",
   "mimetype": "text/x-python",
   "name": "python",
   "nbconvert_exporter": "python",
   "pygments_lexer": "ipython3",
   "version": "3.9.13"
  }
 },
 "nbformat": 4,
 "nbformat_minor": 5
}
