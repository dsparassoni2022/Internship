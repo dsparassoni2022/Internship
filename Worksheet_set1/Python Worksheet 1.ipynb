{
 "cells": [
  {
   "cell_type": "markdown",
   "id": "e43402e7",
   "metadata": {},
   "source": [
    "# 11. Write a python program to find the factorial of a number."
   ]
  },
  {
   "cell_type": "code",
   "execution_count": 1,
   "id": "6924334a",
   "metadata": {},
   "outputs": [
    {
     "name": "stdout",
     "output_type": "stream",
     "text": [
      "Enter a number: 8\n",
      "The factorial of 8 is 40320\n"
     ]
    }
   ],
   "source": [
    "def factorial(N):\n",
    "    if N == 0:\n",
    "        return 1\n",
    "    else:\n",
    "        return (N * factorial(N - 1))\n",
    "number = int(input(\"Enter a number: \"))\n",
    "result = factorial(number)\n",
    "print(\"The factorial of\", number, \"is\", result)\n"
   ]
  },
  {
   "cell_type": "code",
   "execution_count": null,
   "id": "b682135e",
   "metadata": {},
   "outputs": [],
   "source": []
  },
  {
   "cell_type": "markdown",
   "id": "c2a0a7f9",
   "metadata": {},
   "source": [
    "# 12. Write a python program to find whether a number is prime or composite."
   ]
  },
  {
   "cell_type": "code",
   "execution_count": 2,
   "id": "1e2eaa09",
   "metadata": {},
   "outputs": [
    {
     "name": "stdout",
     "output_type": "stream",
     "text": [
      "Enter a number: 45\n",
      "45 is a composite number.\n"
     ]
    }
   ],
   "source": [
    "def is_prime(N):\n",
    "    if N <= 1:\n",
    "        return False\n",
    "    for i in range(2, int(N ** 0.5) + 1):\n",
    "        if N % i == 0:\n",
    "            return False\n",
    "    return True\n",
    "\n",
    "N = int(input(\"Enter a number: \"))\n",
    "\n",
    "\n",
    "if is_prime(N):\n",
    "    print(N, \"is a prime number.\")\n",
    "else:\n",
    "    print(N, \"is a composite number.\")\n"
   ]
  },
  {
   "cell_type": "code",
   "execution_count": null,
   "id": "349da88d",
   "metadata": {},
   "outputs": [],
   "source": []
  },
  {
   "cell_type": "markdown",
   "id": "05a44a6c",
   "metadata": {},
   "source": [
    "# 13. Write a python program to check whether a given string is palindrome or not."
   ]
  },
  {
   "cell_type": "code",
   "execution_count": 4,
   "id": "695409b2",
   "metadata": {},
   "outputs": [
    {
     "name": "stdout",
     "output_type": "stream",
     "text": [
      "Enter a string: Never odd or even\n",
      "The string is a Palindrome.\n"
     ]
    }
   ],
   "source": [
    "def Palindrome(string):\n",
    "    \n",
    "    string = string.replace(\" \", \"\").lower()\n",
    "    \n",
    "    if string == string[::-1]:\n",
    "        return True\n",
    "    else:\n",
    "        return False\n",
    "\n",
    "\n",
    "string = input(\"Enter a string: \")\n",
    "\n",
    "if Palindrome(string):\n",
    "    print(\"The string is a Palindrome.\")\n",
    "else:\n",
    "    print(\"The string is not a Palindrome.\")\n"
   ]
  },
  {
   "cell_type": "code",
   "execution_count": null,
   "id": "2413ee9a",
   "metadata": {},
   "outputs": [],
   "source": []
  },
  {
   "cell_type": "markdown",
   "id": "505f5527",
   "metadata": {},
   "source": [
    "# 14. Write a Python program to get the third side of right-angled triangle from two given sides."
   ]
  },
  {
   "cell_type": "code",
   "execution_count": 5,
   "id": "237eaa4f",
   "metadata": {},
   "outputs": [
    {
     "name": "stdout",
     "output_type": "stream",
     "text": [
      "Enter the length of the first side: 5\n",
      "Enter the length of the second side: 12\n",
      "The length of the third side is: 13.0\n"
     ]
    }
   ],
   "source": [
    "import math\n",
    "\n",
    "def get_third_side(side1, side2):\n",
    "    third_side = math.sqrt(side1**2 + side2**2)\n",
    "    return third_side\n",
    "\n",
    "side1 = float(input(\"Enter the length of the first side: \"))\n",
    "side2 = float(input(\"Enter the length of the second side: \"))\n",
    "\n",
    "\n",
    "third_side = get_third_side(side1, side2)\n",
    "\n",
    "print(\"The length of the third side is:\", third_side)\n"
   ]
  },
  {
   "cell_type": "code",
   "execution_count": null,
   "id": "d73b2370",
   "metadata": {},
   "outputs": [],
   "source": []
  },
  {
   "cell_type": "markdown",
   "id": "d8c7c211",
   "metadata": {},
   "source": [
    "# 15. Write a python program to print the frequency of each of the characters present in a given string."
   ]
  },
  {
   "cell_type": "code",
   "execution_count": 6,
   "id": "166e44af",
   "metadata": {},
   "outputs": [
    {
     "name": "stdout",
     "output_type": "stream",
     "text": [
      "Enter a string: Paras Soni\n",
      "Character 'P' appears 1 times.\n",
      "Character 'a' appears 2 times.\n",
      "Character 'r' appears 1 times.\n",
      "Character 's' appears 1 times.\n",
      "Character ' ' appears 1 times.\n",
      "Character 'S' appears 1 times.\n",
      "Character 'o' appears 1 times.\n",
      "Character 'n' appears 1 times.\n",
      "Character 'i' appears 1 times.\n"
     ]
    }
   ],
   "source": [
    "def character_frequency(string):\n",
    "   \n",
    "    frequency = {}\n",
    "\n",
    "   \n",
    "    for char in string:\n",
    "        if char in frequency:\n",
    "            frequency[char] += 1\n",
    "        else:\n",
    "            frequency[char] = 1\n",
    "\n",
    "    \n",
    "    for char, count in frequency.items():\n",
    "        print(f\"Character '{char}' appears {count} times.\")\n",
    "\n",
    "\n",
    "string = input(\"Enter a string: \")\n",
    "\n",
    "\n",
    "character_frequency(string)\n"
   ]
  },
  {
   "cell_type": "code",
   "execution_count": null,
   "id": "3ded757f",
   "metadata": {},
   "outputs": [],
   "source": []
  }
 ],
 "metadata": {
  "kernelspec": {
   "display_name": "Python 3 (ipykernel)",
   "language": "python",
   "name": "python3"
  },
  "language_info": {
   "codemirror_mode": {
    "name": "ipython",
    "version": 3
   },
   "file_extension": ".py",
   "mimetype": "text/x-python",
   "name": "python",
   "nbconvert_exporter": "python",
   "pygments_lexer": "ipython3",
   "version": "3.9.13"
  }
 },
 "nbformat": 4,
 "nbformat_minor": 5
}
